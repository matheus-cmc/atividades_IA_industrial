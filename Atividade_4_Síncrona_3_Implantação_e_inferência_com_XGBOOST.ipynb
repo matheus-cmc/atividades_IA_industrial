{
  "nbformat": 4,
  "nbformat_minor": 0,
  "metadata": {
    "colab": {
      "provenance": [],
      "authorship_tag": "ABX9TyMhqEoSaG0qT2pji3ZcnBS9",
      "include_colab_link": true
    },
    "kernelspec": {
      "name": "python3",
      "display_name": "Python 3"
    },
    "language_info": {
      "name": "python"
    }
  },
  "cells": [
    {
      "cell_type": "markdown",
      "metadata": {
        "id": "view-in-github",
        "colab_type": "text"
      },
      "source": [
        "<a href=\"https://colab.research.google.com/github/matheus-cmc/atividades_IA_industrial/blob/main/Atividade_4_S%C3%ADncrona_3_Implanta%C3%A7%C3%A3o_e_infer%C3%AAncia_com_XGBOOST.ipynb\" target=\"_parent\"><img src=\"https://colab.research.google.com/assets/colab-badge.svg\" alt=\"Open In Colab\"/></a>"
      ]
    },
    {
      "cell_type": "code",
      "execution_count": 10,
      "metadata": {
        "colab": {
          "base_uri": "https://localhost:8080/"
        },
        "id": "KYtfio5gtv2B",
        "outputId": "54069dd2-b1fd-4357-c044-4d6f559d6101"
      },
      "outputs": [
        {
          "output_type": "stream",
          "name": "stdout",
          "text": [
            "Bibliotecas importadas com sucesso!\n"
          ]
        }
      ],
      "source": [
        "#1)Importações\n",
        "\n",
        "import os\n",
        "import pandas as pd\n",
        "import matplotlib.pyplot as plt\n",
        "import joblib # Salvar e carregar o pipeline(Implatação)\n",
        "\n",
        "#Ferramentas do Scikit-learn\n",
        "from sklearn.model_selection import train_test_split\n",
        "from sklearn.compose import ColumnTransformer\n",
        "from sklearn.preprocessing import OneHotEncoder\n",
        "from sklearn.pipeline import Pipeline\n",
        "\n",
        "#Métricas de avaliação\n",
        "\n",
        "from sklearn.metrics import (\n",
        "    confusion_matrix,\n",
        "    accuracy_score,\n",
        "    precision_score,\n",
        "    recall_score,\n",
        "    f1_score,\n",
        "    classification_report,\n",
        "    roc_curve,\n",
        "    roc_auc_score\n",
        ")\n",
        "\n",
        "from xgboost import XGBClassifier\n",
        "\n",
        "print(\"Bibliotecas importadas com sucesso!\")"
      ]
    },
    {
      "cell_type": "code",
      "source": [
        "#2) Funções Auxiliares\n",
        "\n",
        "def carregar_csv(nome_arquivo=\"flights_delays_120.csv\"):\n",
        "  \"\"\"\n",
        "    Carrega o arquivo CSV informado.\n",
        "    Verifica se o arquivos existe antes de tentar ler.\n",
        "  \"\"\"\n",
        "  if os.path.exists(nome_arquivo):\n",
        "    print(f\"Arquivo '{nome_arquivo}' encontrado. Carregando dados...\")\n",
        "    return pd.read_csv(nome_arquivo)\n",
        "  else:\n",
        "    print(f\"ERRO: Arquivo '{nome_arquivo}' não encontrado.\")\n",
        "    raise FileNotFoundError(f\"Arquivo '{nome_arquivo}' não encontrado.\")\n",
        "\n",
        "def coluna_alvo(dados):\n",
        "  \"\"\"\n",
        "  Detectar automaticamente a coluna alvo do dataFrame.\n",
        "  Procurar por nomes comuns de colunas alvo.\n",
        "  \"\"\"\n",
        "  candidatos = [\"delayed\", \"atrasos\", \"alvo\", \"target\", \"y\"]\n",
        "\n",
        "  for c in candidatos:\n",
        "    if c in dados.columns:\n",
        "      print(f\"Coluna alvo detectada: '{c}'\")\n",
        "      return c\n",
        "\n",
        "  print(\"ERRO: Nenhuma coluna alvo (como 'delayed' ou 'atraso') foi encontrada.\")\n",
        "  raise KeyError(\"Coluna alvo não encontrada.\")\n",
        "\n",
        "def prev_avaliar(pipeline, X_data, y_true, nome_conjunto=\"Teste\", threshold=0.5):\n",
        "  \"\"\"\n",
        "  Função auxiliar para fazer predições e exibir métricas de desempenho.\n",
        "  \"\"\"\n",
        "  print(f\"\\n---- Avalição no conjunto de {nome_conjunto} ----\")\n",
        "\n",
        "  #Obter probabilidades\n",
        "  probas = pipeline.predict_proba(X_data)[:,1]\n",
        "\n",
        "  #Converter para classe binária\n",
        "  y_pred = (probas >= threshold).astype(int)\n",
        "\n",
        "  #Matriz de confusão\n",
        "  cm = confusion_matrix(y_true, y_pred)\n",
        "  print(\"Matriz de confusão:\\n\", cm)\n",
        "\n",
        "  #Métricas principais\n",
        "  print(f\"Acurária:{accuracy_score(y_true, y_pred):.4f}\")\n",
        "  print(f\"Precisão: {precision_score(y_true, y_pred, zero_division=0):.4f}\")\n",
        "  print(f\"Recall (Sensibilidade): {recall_score(y_true,y_pred, zero_division=0):.4f} \")\n",
        "  print(f\"F1-Score: {f1_score(y_true, y_pred, zero_division=0):.4f}\")\n",
        "\n",
        "  #Relatório de Classificação\n",
        "\n",
        "  print(\"\\nRelatório de Classificação:\\n\", classification_report(y_true,y_pred))\n",
        "\n",
        "  auc = roc_auc_score(y_true, probas)\n",
        "  print(f\"AUC (Área sob Curva): {auc:.4f}\")\n",
        "\n",
        "  #Retornar o AUC para classificação\n",
        "  return auc\n",
        ""
      ],
      "metadata": {
        "id": "jA9z3fSiwfw2"
      },
      "execution_count": 11,
      "outputs": []
    },
    {
      "cell_type": "code",
      "source": [
        "#3) Carregar e Preparar os dados\n",
        "\n",
        "#3.1) Carregar dados\n",
        "dados = carregar_csv()\n",
        "alvo = coluna_alvo(dados)\n",
        "\n",
        "#Separar X (features) e y (alvo)\n",
        "y = dados[alvo]\n",
        "x = dados.drop(columns=[alvo])\n",
        "\n",
        "#Separa as colunas categóricas de numéricas\n",
        "\n",
        "cat = [c for c in x.columns if x[c].dtype == \"object\"]\n",
        "num = [c for c in x.columns if c not in cat]\n",
        "print (f\"Colunas categóricas identificadas:{cat}\")\n",
        "print (f\"Colunas numéricas identificadas:{num}\")\n",
        "\n",
        "#Dividir em treino e teste\n",
        "x_treino, x_teste, y_treino, y_teste = train_test_split(\n",
        "    x, y,\n",
        "    test_size=0.25,\n",
        "    stratify = y,\n",
        "    random_state = 7\n",
        ")\n",
        "print(f\"Dados divididos: {len(y_treino)} para treino, {len(y_teste)} para teste.\")\n",
        "\n",
        "#4) Pré-processador e pipeline do modelo\n",
        "\n",
        "preprocessador = ColumnTransformer([\n",
        "    (\"categoricas\", OneHotEncoder(handle_unknown=\"ignore\"), cat),\n",
        "    (\"numericas\", \"passthrough\", num)\n",
        "])\n",
        "\n",
        "#Modelo XGBoost\n",
        "modelo = XGBClassifier(\n",
        "    n_estimators = 300, # Define o número de árvores de decisão a serem construídas sequencialmente (rodadas de boosting).\n",
        "    learning_rate = 0.08, # Controla o peso dado a cada nova árvore, ou seja, a taxa na qual o modelo aprende.\n",
        "    max_depth = 6, # Define a profundidade máxima de cada árvore individual no conjunto.\n",
        "    subsample = 0.9, # Fração das amostras de treinamento (linhas) a serem usadas para construir cada árvore. Usar 90% (0.9) dos dados de forma aleatória ajuda a reduzir a variância do modelo (semelhante ao bagging).\n",
        "    colsample_bytree=0.9, # Fração das features/variáveis (colunas) a serem amostradas aleatoriamente para construir cada árvore.\n",
        "    eval_metric = \"logloss\", # Métrica de avaliação usada para monitorar o desempenho durante o treinamento (especialmente em validação cruzada).\n",
        "    random_state = 7 # Define a semente para o gerador de números aleatórios.\n",
        ")\n",
        "\n",
        "#Criar e treinar o Pipeline\n",
        "pipeline = Pipeline([\n",
        "    (\"prep\", preprocessador),\n",
        "    (\"xgb\", modelo)\n",
        "])\n",
        "\n",
        "#Treinar\n",
        "print(\"\\nIniciando o treinamento do modelo XGBoost...\")\n",
        "pipeline.fit(x_treino, y_treino)\n",
        "print(\"Modelo treinado com sucesso!\")"
      ],
      "metadata": {
        "colab": {
          "base_uri": "https://localhost:8080/"
        },
        "id": "tcDZ3xjX2LA0",
        "outputId": "cf64ac56-9e2f-4c82-9754-b82737a24020"
      },
      "execution_count": 12,
      "outputs": [
        {
          "output_type": "stream",
          "name": "stdout",
          "text": [
            "Arquivo 'flights_delays_120.csv' encontrado. Carregando dados...\n",
            "Coluna alvo detectada: 'delayed'\n",
            "Colunas categóricas identificadas:['airline', 'origin', 'destination', 'weather']\n",
            "Colunas numéricas identificadas:['departure_hour', 'day_of_week']\n",
            "Dados divididos: 90 para treino, 30 para teste.\n",
            "\n",
            "Iniciando o treinamento do modelo XGBoost...\n",
            "Modelo treinado com sucesso!\n"
          ]
        }
      ]
    },
    {
      "cell_type": "code",
      "source": [
        "#5) Predições e métricas de desempenho\n",
        "\n",
        "#Usar a função auxiliar para avaliar o desempenho do conjunto de teste.\n",
        "auc_teste = prev_avaliar(pipeline, x_teste, y_teste, nome_conjunto=\"Teste\")\n",
        "\n",
        "#6) Curva ROC e AUC\n",
        "\n",
        "#Plotar a curva ROC(código mantido da métrica)\n",
        "probas = pipeline.predict_proba(x_teste)[:,1]\n",
        "fpr, tpr, thresholds = roc_curve(y_teste, probas)\n",
        "\n",
        "plt.figure(figsize=(8,6))\n",
        "plt.plot(fpr,tpr,label=f\"Modelo XGBoost (AUC = {auc_teste:.3f})\")\n",
        "plt.plot([0,1], [0,1], linestyle=\"--\", label=\"Classificador aleatório\")\n",
        "plt.xlabel(\"Taxa de Falsos Positivos (FPR)\")\n",
        "plt.ylabel(\"Taxa de Verdadeiros Positivos (TPR/Recall)\")\n",
        "plt.title(\"Curva ROC\")\n",
        "plt.legend()\n",
        "plt.grid(True)\n",
        "plt.show()"
      ],
      "metadata": {
        "colab": {
          "base_uri": "https://localhost:8080/",
          "height": 929
        },
        "id": "HKtYWRJx6-sV",
        "outputId": "9a4535d0-73de-4978-fdb3-5348311f714a"
      },
      "execution_count": 13,
      "outputs": [
        {
          "output_type": "stream",
          "name": "stdout",
          "text": [
            "\n",
            "---- Avalição no conjunto de Teste ----\n",
            "Matriz de confusão:\n",
            " [[17  0]\n",
            " [ 0 13]]\n",
            "Acurária:1.0000\n",
            "Precisão: 1.0000\n",
            "Recall (Sensibilidade): 1.0000 \n",
            "F1-Score: 1.0000\n",
            "\n",
            "Relatório de Classificação:\n",
            "               precision    recall  f1-score   support\n",
            "\n",
            "           0       1.00      1.00      1.00        17\n",
            "           1       1.00      1.00      1.00        13\n",
            "\n",
            "    accuracy                           1.00        30\n",
            "   macro avg       1.00      1.00      1.00        30\n",
            "weighted avg       1.00      1.00      1.00        30\n",
            "\n",
            "AUC (Área sob Curva): 1.0000\n"
          ]
        },
        {
          "output_type": "display_data",
          "data": {
            "text/plain": [
              "<Figure size 800x600 with 1 Axes>"
            ],
            "image/png": "[encoded data removed]"
          },
          "metadata": {}
        }
      ]
    },
    {
      "cell_type": "code",
      "source": [
        "#7) Salvar o modelo (Implantação)\n",
        "nome_arquivo_modelo = \"modelo_xgboost_pipeline.joblib\"\n",
        "\n",
        "#Salvar o pipeline completo(pré-processador + modelo)\n",
        "\n",
        "try:\n",
        "  joblib.dump(pipeline, nome_arquivo_modelo)\n",
        "  print(f\"\\nPipeline completo salvo com sucesso em '{nome_arquivo_modelo}'\")\n",
        "\n",
        "  #Carregar o modelo salvo para simular um ambiente de produção\n",
        "  modelo_implantado = joblib.load(nome_arquivo_modelo)\n",
        "  print(f\"Modelo carregado(simulação de implantação): {modelo_implantado}\")\n",
        "except Exception as e:\n",
        "  print(f\"Erro ao salvar/carregar o modelo: {e}\")\n",
        "  #Define o modelo implantado como o pipeline treinado se o salvamento falhar\n",
        "  modelo_implantado = pipeline"
      ],
      "metadata": {
        "colab": {
          "base_uri": "https://localhost:8080/"
        },
        "id": "tp8HCrYT9Otu",
        "outputId": "e96afe86-ba12-492d-ed22-b353ea7d39ce"
      },
      "execution_count": 14,
      "outputs": [
        {
          "output_type": "stream",
          "name": "stdout",
          "text": [
            "\n",
            "Pipeline completo salvo com sucesso em 'modelo_xgboost_pipeline.joblib'\n",
            "Modelo carregado(simulação de implantação): Pipeline(steps=[('prep',\n",
            "                 ColumnTransformer(transformers=[('categoricas',\n",
            "                                                  OneHotEncoder(handle_unknown='ignore'),\n",
            "                                                  ['airline', 'origin',\n",
            "                                                   'destination', 'weather']),\n",
            "                                                 ('numericas', 'passthrough',\n",
            "                                                  ['departure_hour',\n",
            "                                                   'day_of_week'])])),\n",
            "                ('xgb',\n",
            "                 XGBClassifier(base_score=None, booster=None, callbacks=None,\n",
            "                               colsample_bylevel=None, colsample_bynode=None,\n",
            "                               colsample_bytree=0.9...\n",
            "                               feature_types=None, feature_weights=None,\n",
            "                               gamma=None, grow_policy=None,\n",
            "                               importance_type=None,\n",
            "                               interaction_constraints=None, learning_rate=0.08,\n",
            "                               max_bin=None, max_cat_threshold=None,\n",
            "                               max_cat_to_onehot=None, max_delta_step=None,\n",
            "                               max_depth=6, max_leaves=None,\n",
            "                               min_child_weight=None, missing=nan,\n",
            "                               monotone_constraints=None, multi_strategy=None,\n",
            "                               n_estimators=300, n_jobs=None,\n",
            "                               num_parallel_tree=None, ...))])\n"
          ]
        }
      ]
    },
    {
      "cell_type": "code",
      "source": [
        "#8) Simular predição em tempo real\n",
        "\n",
        "#Selecionar um registro aleatório do conjunto de teste para simular entrada\n",
        "\n",
        "registro_novo = x_teste.sample(1, random_state=42).copy()\n",
        "y_real = y_teste.loc[registro_novo.index[0]] # valor real do registro\n",
        "\n",
        "#Fazer a predição\n",
        "\n",
        "probas_rt = modelo_implantado.predict_proba(registro_novo)[:, 1]\n",
        "predicao_rt = (probas_rt[0] >= 0.5).astype(int)\n",
        "\n",
        "#Exibir os resultados\n",
        "print(f\"\\nProbabilidade de atraso (Classe 1): {probas_rt[0]:.4f}\")\n",
        "print(f\"Predição Binária: {'Atraso' if predicao_rt == 1 else 'No Atraso'} (Valor: {y_real})\")\n",
        "print(f\"Predição Correta? {predicao_rt == y_real}\")\n",
        ""
      ],
      "metadata": {
        "colab": {
          "base_uri": "https://localhost:8080/"
        },
        "id": "bzwCfBf8-u8G",
        "outputId": "311deac6-23c3-4778-d091-feb7c085426f"
      },
      "execution_count": 15,
      "outputs": [
        {
          "output_type": "stream",
          "name": "stdout",
          "text": [
            "\n",
            "Probabilidade de atraso (Classe 1): 0.0332\n",
            "Predição Binária: No Atraso (Valor: 0)\n",
            "Predição Correta? True\n"
          ]
        }
      ]
    },
    {
      "cell_type": "code",
      "source": [
        "#9) Simular indferência em Lote(Conjunto de Registros)\n",
        "\n",
        "#Selecionar os primeiros 100 registros do conjunto de teste como 'Lote'\n",
        "lote_registros = x_teste.head(100).copy()\n",
        "lote_y_reais = y_teste.head(100).copy()\n",
        "\n",
        "print(\"\\n--- Inferência em Lote (100 registros) ---\")\n",
        "print(f\"Processando lote de {len(lote_registros)} registros...\")\n",
        "\n",
        "#Fazer as predições\n",
        "# O método 'predict_proba' é vetorizado (rápido) para conjuntos grandes\n",
        "probas_batch = modelo_implantado.predict_proba(lote_registros)[:,1]\n",
        "predicoes_batch = (probas_batch >= 0.5).astype(int)\n",
        "\n",
        "#Analise de Resultados do Lote\n",
        "df_resultados_batch = pd.DataFrame({\n",
        "    'Prob_Atraso': probas_batch,\n",
        "    'Predicao_Binaria': predicoes_batch,\n",
        "    'Real':lote_y_reais.values\n",
        "})\n",
        "\n",
        "#Exibir o resumo e avaliação\n",
        "acuracia_batch = accuracy_score(df_resultados_batch['Real'], df_resultados_batch['Predicao_Binaria'])\n",
        "print(f\"\\nResumo da Inferência em Lote:\")\n",
        "print(f\"Acurácia do Lote: {acuracia_batch:.4f}\")\n",
        "print(\"Distribuição de Predições (0=No Atraso):\\n\", df_resultados_batch['Predicao_Binaria'].value_counts())\n",
        "print(\"\\nPrimeiros 5 resultados do Lote:\\n\", df_resultados_batch.head())"
      ],
      "metadata": {
        "colab": {
          "base_uri": "https://localhost:8080/"
        },
        "id": "nCkT6BBbAyTV",
        "outputId": "8edc9ae3-8360-44e5-fead-9102ab77ef02"
      },
      "execution_count": 16,
      "outputs": [
        {
          "output_type": "stream",
          "name": "stdout",
          "text": [
            "\n",
            "--- Inferência em Lote (100 registros) ---\n",
            "Processando lote de 30 registros...\n",
            "\n",
            "Resumo da Inferência em Lote:\n",
            "Acurácia do Lote: 1.0000\n",
            "Distribuição de Predições (0=No Atraso):\n",
            " Predicao_Binaria\n",
            "0    17\n",
            "1    13\n",
            "Name: count, dtype: int64\n",
            "\n",
            "Primeiros 5 resultados do Lote:\n",
            "    Prob_Atraso  Predicao_Binaria  Real\n",
            "0     0.056706                 0     0\n",
            "1     0.833625                 1     1\n",
            "2     0.075693                 0     0\n",
            "3     0.947199                 1     1\n",
            "4     0.948816                 1     1\n"
          ]
        }
      ]
    },
    {
      "cell_type": "code",
      "source": [
        "#10) Comparação e conclusão\n",
        "\n",
        "print(\"\\n\\n##################################\")\n",
        "print(\"### CONCLUSÕES DA IMPLANTAÇÃO E INFERÊNCIA ###\")\n",
        "print(\"##################################\")\n",
        "\n",
        "# 10.1) Comparação Tempo Real vs. Batch\n",
        "print(\"\\n1. Consistência entre Tempo Real e Lote:\")\n",
        "print(\"- A *lógica* de predição é idêntica para os dois modos, pois ambos usam o mesmo Pipeline.\")\n",
        "print(\"- A principal diferença é a *velocidade* e o *formato* de entrada/saída.\")\n",
        "print(\"  - **Tempo Real:** Recebe 1 registro, retorna 1 predição. Requer baixa latência (rápido).\")\n",
        "print(\"  - **Lote:** Recebe N registros, retorna N predições. Focado em *throughput* (alto volume).\")\n",
        "print(\"- A acurácia do lote (100 registros): {:.4f} (Em linha com o desempenho geral do Teste).\".format(acuracia_batch))\n",
        "\n",
        "# 10.2) Interpretação do Modelo e Métricas\n",
        "print(\"\\n2. Interpretação das Métricas de Teste:\")\n",
        "print(f\"- **AUC ({auc_teste:.4f}):** Um valor alto (próximo de 1) indica que o modelo tem uma excelente capacidade de ranquear corretamente as instâncias (separar voos com e sem atraso).\")\n",
        "print(\"- **Recall (Sensibilidade):** Indica a proporção de voos *reais* atrasados que o modelo conseguiu capturar. Um Recall alto é crucial se a prioridade for evitar a perda de atrasos.\")\n",
        "print(\"- **Precisão:** Indica a proporção de voos que o modelo *previu* como atrasados que de fato atrasaram. Uma Precisão alta reduz o número de 'alarmes falsos'.\")\n",
        "print(\"- O F1-Score busca um equilíbrio entre Precisão e Recall.\")\n",
        "\n",
        "# 10.3) Conclusões da Atividade\n",
        "print(\"\\n3. Resumo da Atividade (Google Colab):\")\n",
        "print(\"- A utilização do `Pipeline` do Scikit-learn simplificou o processo de `fit` e `transform`, aplicando o pré-processamento e o modelo em uma única etapa.\")\n",
        "print(\"- O salvamento via `joblib.dump` garantiu que todo o fluxo (pré-processador e XGBoost) fosse salvo, garantindo a reprodutibilidade na fase de implantação.\")\n",
        "print(\"- O processo de inferência foi validado em ambos os cenários, mostrando que o modelo implantado está pronto para uso em produção.\")\n",
        "print(\"##################################\")"
      ],
      "metadata": {
        "colab": {
          "base_uri": "https://localhost:8080/"
        },
        "id": "PeTIw5XGD2nd",
        "outputId": "2bf9b374-bb4d-4d8e-eb60-fb8adc999556"
      },
      "execution_count": 17,
      "outputs": [
        {
          "output_type": "stream",
          "name": "stdout",
          "text": [
            "\n",
            "\n",
            "##################################\n",
            "### CONCLUSÕES DA IMPLANTAÇÃO E INFERÊNCIA ###\n",
            "##################################\n",
            "\n",
            "1. Consistência entre Tempo Real e Lote:\n",
            "- A *lógica* de predição é idêntica para os dois modos, pois ambos usam o mesmo Pipeline.\n",
            "- A principal diferença é a *velocidade* e o *formato* de entrada/saída.\n",
            "  - **Tempo Real:** Recebe 1 registro, retorna 1 predição. Requer baixa latência (rápido).\n",
            "  - **Lote:** Recebe N registros, retorna N predições. Focado em *throughput* (alto volume).\n",
            "- A acurácia do lote (100 registros): 1.0000 (Em linha com o desempenho geral do Teste).\n",
            "\n",
            "2. Interpretação das Métricas de Teste:\n",
            "- **AUC (1.0000):** Um valor alto (próximo de 1) indica que o modelo tem uma excelente capacidade de ranquear corretamente as instâncias (separar voos com e sem atraso).\n",
            "- **Recall (Sensibilidade):** Indica a proporção de voos *reais* atrasados que o modelo conseguiu capturar. Um Recall alto é crucial se a prioridade for evitar a perda de atrasos.\n",
            "- **Precisão:** Indica a proporção de voos que o modelo *previu* como atrasados que de fato atrasaram. Uma Precisão alta reduz o número de 'alarmes falsos'.\n",
            "- O F1-Score busca um equilíbrio entre Precisão e Recall.\n",
            "\n",
            "3. Resumo da Atividade (Google Colab):\n",
            "- A utilização do `Pipeline` do Scikit-learn simplificou o processo de `fit` e `transform`, aplicando o pré-processamento e o modelo em uma única etapa.\n",
            "- O salvamento via `joblib.dump` garantiu que todo o fluxo (pré-processador e XGBoost) fosse salvo, garantindo a reprodutibilidade na fase de implantação.\n",
            "- O processo de inferência foi validado em ambos os cenários, mostrando que o modelo implantado está pronto para uso em produção.\n",
            "##################################\n"
          ]
        }
      ]
    }
  ]
}